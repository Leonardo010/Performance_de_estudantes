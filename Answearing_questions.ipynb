{
 "cells": [
  {
   "cell_type": "markdown",
   "id": "f30022dc",
   "metadata": {},
   "source": [
    "# Answearing questions"
   ]
  },
  {
   "cell_type": "markdown",
   "id": "d42c0c5d",
   "metadata": {},
   "source": [
    "## How effective is the test preparation course?\n",
    "\n",
    "O Curso de preparação é a variável que mais influencia a média final do aluno, aqueles que fizeram possuem notas em torno de 12.03% maiores do que aqueles que não fizeram. As notas saltaram principalmente nas matérias de escrita, que foram em média 16.7% maiores e em leitura que foram 11.8% maiores, já em matemática foram 7.6 % maiores.\n",
    "\n",
    "Portanto, uma boa medida seria melhorar as aulas de matemática no curso, focando nas mulheres em relação a essa disciplina e focando nos homens em relação às demais disciplinas.\n",
    "\n",
    "## Which major factors contribute to test outcomes?\n",
    "\n",
    "As variáveis que mais influenciam a nota em ordem decrescente são: 1º Curso de preparação, 2º Almoço, 3º grau de escolaridade dos pais, 4º Sexo, 5º raça/etnia.\n",
    "\n",
    "Aqueles com almoço padrão possuem notas maiores que aqueles com almoço descontrolado ou reduzido.\n",
    "\n",
    "Quanto maior a escolaridade dos pais, maiores as notas.\n",
    "\n",
    "O sexo feminino obteve médias um pouco maiores que o sexo masculino.\n",
    "\n",
    "Aqueles que pertenciam ao grupo E e D tinham maiores notas que o restante.\n",
    "\n",
    "## What would be the best way to improve student scores on the test?\n",
    "\n",
    "A melhor forma de melhorar a pontução dos alunos seria increvê-lo no curso de preparação e mantê-lo com almoço equilibrado.\n",
    "\n",
    "Uma boa medida  do curso seria melhorar as aulas de matemática, focando nas mulheres em relação a essa disciplina e focando nos homens em relação as demais disciplinas."
   ]
  },
  {
   "cell_type": "code",
   "execution_count": null,
   "id": "2cfd89c7",
   "metadata": {},
   "outputs": [],
   "source": []
  }
 ],
 "metadata": {
  "kernelspec": {
   "display_name": "Python 3 (ipykernel)",
   "language": "python",
   "name": "python3"
  },
  "language_info": {
   "codemirror_mode": {
    "name": "ipython",
    "version": 3
   },
   "file_extension": ".py",
   "mimetype": "text/x-python",
   "name": "python",
   "nbconvert_exporter": "python",
   "pygments_lexer": "ipython3",
   "version": "3.9.7"
  }
 },
 "nbformat": 4,
 "nbformat_minor": 5
}
