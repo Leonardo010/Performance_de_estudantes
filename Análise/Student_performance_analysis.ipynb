{
 "cells": [
  {
   "cell_type": "code",
   "execution_count": 1,
   "id": "fcdc49fc",
   "metadata": {},
   "outputs": [],
   "source": [
    "import pandas as pd\n",
    "import seaborn as sns"
   ]
  },
  {
   "cell_type": "code",
   "execution_count": 2,
   "id": "bcd707a6",
   "metadata": {},
   "outputs": [
    {
     "data": {
      "text/html": [
       "<div>\n",
       "<style scoped>\n",
       "    .dataframe tbody tr th:only-of-type {\n",
       "        vertical-align: middle;\n",
       "    }\n",
       "\n",
       "    .dataframe tbody tr th {\n",
       "        vertical-align: top;\n",
       "    }\n",
       "\n",
       "    .dataframe thead th {\n",
       "        text-align: right;\n",
       "    }\n",
       "</style>\n",
       "<table border=\"1\" class=\"dataframe\">\n",
       "  <thead>\n",
       "    <tr style=\"text-align: right;\">\n",
       "      <th></th>\n",
       "      <th>gender</th>\n",
       "      <th>race/ethnicity</th>\n",
       "      <th>parental level of education</th>\n",
       "      <th>lunch</th>\n",
       "      <th>test preparation course</th>\n",
       "      <th>math score</th>\n",
       "      <th>reading score</th>\n",
       "      <th>writing score</th>\n",
       "    </tr>\n",
       "  </thead>\n",
       "  <tbody>\n",
       "    <tr>\n",
       "      <th>0</th>\n",
       "      <td>male</td>\n",
       "      <td>group A</td>\n",
       "      <td>high school</td>\n",
       "      <td>standard</td>\n",
       "      <td>completed</td>\n",
       "      <td>67</td>\n",
       "      <td>67</td>\n",
       "      <td>63</td>\n",
       "    </tr>\n",
       "    <tr>\n",
       "      <th>1</th>\n",
       "      <td>female</td>\n",
       "      <td>group D</td>\n",
       "      <td>some high school</td>\n",
       "      <td>free/reduced</td>\n",
       "      <td>none</td>\n",
       "      <td>40</td>\n",
       "      <td>59</td>\n",
       "      <td>55</td>\n",
       "    </tr>\n",
       "    <tr>\n",
       "      <th>2</th>\n",
       "      <td>male</td>\n",
       "      <td>group E</td>\n",
       "      <td>some college</td>\n",
       "      <td>free/reduced</td>\n",
       "      <td>none</td>\n",
       "      <td>59</td>\n",
       "      <td>60</td>\n",
       "      <td>50</td>\n",
       "    </tr>\n",
       "    <tr>\n",
       "      <th>3</th>\n",
       "      <td>male</td>\n",
       "      <td>group B</td>\n",
       "      <td>high school</td>\n",
       "      <td>standard</td>\n",
       "      <td>none</td>\n",
       "      <td>77</td>\n",
       "      <td>78</td>\n",
       "      <td>68</td>\n",
       "    </tr>\n",
       "    <tr>\n",
       "      <th>4</th>\n",
       "      <td>male</td>\n",
       "      <td>group E</td>\n",
       "      <td>associate's degree</td>\n",
       "      <td>standard</td>\n",
       "      <td>completed</td>\n",
       "      <td>78</td>\n",
       "      <td>73</td>\n",
       "      <td>68</td>\n",
       "    </tr>\n",
       "  </tbody>\n",
       "</table>\n",
       "</div>"
      ],
      "text/plain": [
       "   gender race/ethnicity parental level of education         lunch  \\\n",
       "0    male        group A                 high school      standard   \n",
       "1  female        group D            some high school  free/reduced   \n",
       "2    male        group E                some college  free/reduced   \n",
       "3    male        group B                 high school      standard   \n",
       "4    male        group E          associate's degree      standard   \n",
       "\n",
       "  test preparation course  math score  reading score  writing score  \n",
       "0               completed          67             67             63  \n",
       "1                    none          40             59             55  \n",
       "2                    none          59             60             50  \n",
       "3                    none          77             78             68  \n",
       "4               completed          78             73             68  "
      ]
     },
     "execution_count": 2,
     "metadata": {},
     "output_type": "execute_result"
    }
   ],
   "source": [
    "data = pd.read_csv('../dados/exams.csv')\n",
    "data.head()"
   ]
  },
  {
   "cell_type": "code",
   "execution_count": 3,
   "id": "e1fbb76a",
   "metadata": {},
   "outputs": [
    {
     "name": "stdout",
     "output_type": "stream",
     "text": [
      "<class 'pandas.core.frame.DataFrame'>\n",
      "RangeIndex: 1000 entries, 0 to 999\n",
      "Data columns (total 8 columns):\n",
      " #   Column                       Non-Null Count  Dtype \n",
      "---  ------                       --------------  ----- \n",
      " 0   gender                       1000 non-null   object\n",
      " 1   race/ethnicity               1000 non-null   object\n",
      " 2   parental level of education  1000 non-null   object\n",
      " 3   lunch                        1000 non-null   object\n",
      " 4   test preparation course      1000 non-null   object\n",
      " 5   math score                   1000 non-null   int64 \n",
      " 6   reading score                1000 non-null   int64 \n",
      " 7   writing score                1000 non-null   int64 \n",
      "dtypes: int64(3), object(5)\n",
      "memory usage: 62.6+ KB\n"
     ]
    }
   ],
   "source": [
    "data.info()"
   ]
  },
  {
   "cell_type": "markdown",
   "id": "cc23202c",
   "metadata": {},
   "source": [
    "# Frequências e Percentuais"
   ]
  },
  {
   "cell_type": "markdown",
   "id": "30e147fe",
   "metadata": {},
   "source": [
    "# Gênero"
   ]
  },
  {
   "cell_type": "code",
   "execution_count": 4,
   "id": "8dd9d986",
   "metadata": {},
   "outputs": [],
   "source": [
    "frequencia_gender = data['gender'].value_counts()\n",
    "percentual_gender = data['gender'].value_counts(normalize=True)*100"
   ]
  },
  {
   "cell_type": "code",
   "execution_count": 5,
   "id": "bc33f3d0",
   "metadata": {},
   "outputs": [
    {
     "data": {
      "text/html": [
       "<div>\n",
       "<style scoped>\n",
       "    .dataframe tbody tr th:only-of-type {\n",
       "        vertical-align: middle;\n",
       "    }\n",
       "\n",
       "    .dataframe tbody tr th {\n",
       "        vertical-align: top;\n",
       "    }\n",
       "\n",
       "    .dataframe thead th {\n",
       "        text-align: right;\n",
       "    }\n",
       "</style>\n",
       "<table border=\"1\" class=\"dataframe\">\n",
       "  <thead>\n",
       "    <tr style=\"text-align: right;\">\n",
       "      <th></th>\n",
       "      <th>Frequência</th>\n",
       "      <th>Percentual</th>\n",
       "    </tr>\n",
       "  </thead>\n",
       "  <tbody>\n",
       "    <tr>\n",
       "      <th>Masculino</th>\n",
       "      <td>517</td>\n",
       "      <td>51.7</td>\n",
       "    </tr>\n",
       "    <tr>\n",
       "      <th>Feminino</th>\n",
       "      <td>483</td>\n",
       "      <td>48.3</td>\n",
       "    </tr>\n",
       "  </tbody>\n",
       "</table>\n",
       "</div>"
      ],
      "text/plain": [
       "           Frequência  Percentual\n",
       "Masculino         517        51.7\n",
       "Feminino          483        48.3"
      ]
     },
     "execution_count": 5,
     "metadata": {},
     "output_type": "execute_result"
    }
   ],
   "source": [
    "freq_gender = pd.DataFrame({'Frequência': frequencia_gender, 'Percentual': percentual_gender})\n",
    "freq_gender.rename(index={'male': 'Masculino', 'female':'Feminino'}, inplace=True)\n",
    "freq_gender"
   ]
  },
  {
   "cell_type": "code",
   "execution_count": 6,
   "id": "3de4ca11",
   "metadata": {},
   "outputs": [
    {
     "name": "stderr",
     "output_type": "stream",
     "text": [
      "C:\\Users\\PICHAU\\AppData\\Local\\Temp/ipykernel_3304/3543481643.py:5: UserWarning: FixedFormatter should only be used together with FixedLocator\n",
      "  ax1.set_xticklabels(['Masculino', 'Feminino'], fontsize=10)\n"
     ]
    },
    {
     "data": {
      "text/plain": [
       "<AxesSubplot:title={'center':'Distribuição de Frequências - SEXO'}, xlabel='Sexo', ylabel='Contagem'>"
      ]
     },
     "execution_count": 6,
     "metadata": {},
     "output_type": "execute_result"
    },
    {
     "data": {
      "image/png": "[encoded data removed]",
      "text/plain": [
       "<Figure size 432x288 with 1 Axes>"
      ]
     },
     "metadata": {
      "needs_background": "light"
     },
     "output_type": "display_data"
    }
   ],
   "source": [
    "ax1 = sns.histplot(data['gender'])\n",
    "ax1.figure.set_size_inches(6, 4)\n",
    "ax1.set_title('Distribuição de Frequências - SEXO', fontsize=14)\n",
    "ax1.set_xlabel('Sexo', fontsize=10)\n",
    "ax1.set_xticklabels(['Masculino', 'Feminino'], fontsize=10)\n",
    "ax1.set_ylabel('Contagem', fontsize=10)\n",
    "ax1"
   ]
  },
  {
   "cell_type": "markdown",
   "id": "3ff9e88b",
   "metadata": {},
   "source": [
    "# Raça / etnia"
   ]
  },
  {
   "cell_type": "code",
   "execution_count": 7,
   "id": "c092fcd7",
   "metadata": {},
   "outputs": [],
   "source": [
    "frequencia_race = data['race/ethnicity'].value_counts()\n",
    "frequencia_race.sort_values(ascending=False)\n",
    "percentual_race = data['race/ethnicity'].value_counts(normalize=True)*100"
   ]
  },
  {
   "cell_type": "code",
   "execution_count": 8,
   "id": "4c337558",
   "metadata": {},
   "outputs": [
    {
     "data": {
      "text/html": [
       "<div>\n",
       "<style scoped>\n",
       "    .dataframe tbody tr th:only-of-type {\n",
       "        vertical-align: middle;\n",
       "    }\n",
       "\n",
       "    .dataframe tbody tr th {\n",
       "        vertical-align: top;\n",
       "    }\n",
       "\n",
       "    .dataframe thead th {\n",
       "        text-align: right;\n",
       "    }\n",
       "</style>\n",
       "<table border=\"1\" class=\"dataframe\">\n",
       "  <thead>\n",
       "    <tr style=\"text-align: right;\">\n",
       "      <th></th>\n",
       "      <th>Frequência</th>\n",
       "      <th>Percentual</th>\n",
       "    </tr>\n",
       "  </thead>\n",
       "  <tbody>\n",
       "    <tr>\n",
       "      <th>group C</th>\n",
       "      <td>323</td>\n",
       "      <td>32.3</td>\n",
       "    </tr>\n",
       "    <tr>\n",
       "      <th>group D</th>\n",
       "      <td>262</td>\n",
       "      <td>26.2</td>\n",
       "    </tr>\n",
       "    <tr>\n",
       "      <th>group B</th>\n",
       "      <td>205</td>\n",
       "      <td>20.5</td>\n",
       "    </tr>\n",
       "    <tr>\n",
       "      <th>group E</th>\n",
       "      <td>131</td>\n",
       "      <td>13.1</td>\n",
       "    </tr>\n",
       "    <tr>\n",
       "      <th>group A</th>\n",
       "      <td>79</td>\n",
       "      <td>7.9</td>\n",
       "    </tr>\n",
       "  </tbody>\n",
       "</table>\n",
       "</div>"
      ],
      "text/plain": [
       "         Frequência  Percentual\n",
       "group C         323        32.3\n",
       "group D         262        26.2\n",
       "group B         205        20.5\n",
       "group E         131        13.1\n",
       "group A          79         7.9"
      ]
     },
     "execution_count": 8,
     "metadata": {},
     "output_type": "execute_result"
    }
   ],
   "source": [
    "freq_race = pd.DataFrame({'Frequência': frequencia_race, 'Percentual': percentual_race})\n",
    "freq_race"
   ]
  },
  {
   "cell_type": "code",
   "execution_count": 9,
   "id": "d56c0de3",
   "metadata": {},
   "outputs": [
    {
     "data": {
      "text/plain": [
       "<AxesSubplot:title={'center':'Distribuição de Frequências - RAÇA'}, ylabel='Contagem'>"
      ]
     },
     "execution_count": 9,
     "metadata": {},
     "output_type": "execute_result"
    },
    {
     "data": {
      "image/png": "[encoded data removed]",
      "text/plain": [
       "<Figure size 432x288 with 1 Axes>"
      ]
     },
     "metadata": {
      "needs_background": "light"
     },
     "output_type": "display_data"
    }
   ],
   "source": [
    "ax2 = sns.barplot(data = freq_race, x = freq_race.index, y = 'Frequência')\n",
    "ax2.figure.set_size_inches(6, 4)\n",
    "ax2.set_title('Distribuição de Frequências - RAÇA', fontsize=14)\n",
    "ax2.set_ylabel('Contagem', fontsize=10)\n",
    "ax2"
   ]
  },
  {
   "cell_type": "code",
   "execution_count": 10,
   "id": "896a51a9",
   "metadata": {},
   "outputs": [],
   "source": [
    "frequencia_edu = data['parental level of education'].value_counts()\n",
    "percentual_edu = data['parental level of education'].value_counts(normalize=True)*100"
   ]
  },
  {
   "cell_type": "code",
   "execution_count": 11,
   "id": "460dadb9",
   "metadata": {},
   "outputs": [
    {
     "data": {
      "text/html": [
       "<div>\n",
       "<style scoped>\n",
       "    .dataframe tbody tr th:only-of-type {\n",
       "        vertical-align: middle;\n",
       "    }\n",
       "\n",
       "    .dataframe tbody tr th {\n",
       "        vertical-align: top;\n",
       "    }\n",
       "\n",
       "    .dataframe thead th {\n",
       "        text-align: right;\n",
       "    }\n",
       "</style>\n",
       "<table border=\"1\" class=\"dataframe\">\n",
       "  <thead>\n",
       "    <tr style=\"text-align: right;\">\n",
       "      <th></th>\n",
       "      <th>Frequência</th>\n",
       "      <th>Percentual</th>\n",
       "    </tr>\n",
       "  </thead>\n",
       "  <tbody>\n",
       "    <tr>\n",
       "      <th>some college</th>\n",
       "      <td>222</td>\n",
       "      <td>22.2</td>\n",
       "    </tr>\n",
       "    <tr>\n",
       "      <th>associate's degree</th>\n",
       "      <td>203</td>\n",
       "      <td>20.3</td>\n",
       "    </tr>\n",
       "    <tr>\n",
       "      <th>high school</th>\n",
       "      <td>202</td>\n",
       "      <td>20.2</td>\n",
       "    </tr>\n",
       "    <tr>\n",
       "      <th>some high school</th>\n",
       "      <td>191</td>\n",
       "      <td>19.1</td>\n",
       "    </tr>\n",
       "    <tr>\n",
       "      <th>bachelor's degree</th>\n",
       "      <td>112</td>\n",
       "      <td>11.2</td>\n",
       "    </tr>\n",
       "    <tr>\n",
       "      <th>master's degree</th>\n",
       "      <td>70</td>\n",
       "      <td>7.0</td>\n",
       "    </tr>\n",
       "  </tbody>\n",
       "</table>\n",
       "</div>"
      ],
      "text/plain": [
       "                    Frequência  Percentual\n",
       "some college               222        22.2\n",
       "associate's degree         203        20.3\n",
       "high school                202        20.2\n",
       "some high school           191        19.1\n",
       "bachelor's degree          112        11.2\n",
       "master's degree             70         7.0"
      ]
     },
     "execution_count": 11,
     "metadata": {},
     "output_type": "execute_result"
    }
   ],
   "source": [
    "freq_edu = pd.DataFrame({'Frequência': frequencia_edu, 'Percentual': percentual_edu})\n",
    "freq_edu"
   ]
  },
  {
   "cell_type": "markdown",
   "id": "08d45190",
   "metadata": {},
   "source": [
    "# Educação dos Pais"
   ]
  },
  {
   "cell_type": "code",
   "execution_count": 12,
   "id": "684cf55d",
   "metadata": {},
   "outputs": [
    {
     "data": {
      "text/plain": [
       "<AxesSubplot:title={'center':'Distribuição de Frequências - Educação dos Pais'}, ylabel='Contagem'>"
      ]
     },
     "execution_count": 12,
     "metadata": {},
     "output_type": "execute_result"
    },
    {
     "data": {
      "image/png": "[encoded data removed]",
      "text/plain": [
       "<Figure size 864x432 with 1 Axes>"
      ]
     },
     "metadata": {
      "needs_background": "light"
     },
     "output_type": "display_data"
    }
   ],
   "source": [
    "ax3 = sns.barplot(data = freq_edu, x = freq_edu.index, y = 'Frequência')\n",
    "ax3.figure.set_size_inches(12, 6)\n",
    "ax3.set_title('Distribuição de Frequências - Educação dos Pais', fontsize=14)\n",
    "ax3.set_ylabel('Contagem', fontsize=10)\n",
    "ax3"
   ]
  },
  {
   "cell_type": "markdown",
   "id": "038364d3",
   "metadata": {},
   "source": [
    "# Almoço"
   ]
  },
  {
   "cell_type": "code",
   "execution_count": 13,
   "id": "c99c2f96",
   "metadata": {},
   "outputs": [],
   "source": [
    "frequencia_lunch = data['lunch'].value_counts()\n",
    "percentual_lunch = data['lunch'].value_counts(normalize=True)*100\n"
   ]
  },
  {
   "cell_type": "code",
   "execution_count": 14,
   "id": "b54507a9",
   "metadata": {},
   "outputs": [
    {
     "data": {
      "text/html": [
       "<div>\n",
       "<style scoped>\n",
       "    .dataframe tbody tr th:only-of-type {\n",
       "        vertical-align: middle;\n",
       "    }\n",
       "\n",
       "    .dataframe tbody tr th {\n",
       "        vertical-align: top;\n",
       "    }\n",
       "\n",
       "    .dataframe thead th {\n",
       "        text-align: right;\n",
       "    }\n",
       "</style>\n",
       "<table border=\"1\" class=\"dataframe\">\n",
       "  <thead>\n",
       "    <tr style=\"text-align: right;\">\n",
       "      <th></th>\n",
       "      <th>Frequência</th>\n",
       "      <th>Percentual</th>\n",
       "    </tr>\n",
       "  </thead>\n",
       "  <tbody>\n",
       "    <tr>\n",
       "      <th>standard</th>\n",
       "      <td>652</td>\n",
       "      <td>65.2</td>\n",
       "    </tr>\n",
       "    <tr>\n",
       "      <th>free/reduced</th>\n",
       "      <td>348</td>\n",
       "      <td>34.8</td>\n",
       "    </tr>\n",
       "  </tbody>\n",
       "</table>\n",
       "</div>"
      ],
      "text/plain": [
       "              Frequência  Percentual\n",
       "standard             652        65.2\n",
       "free/reduced         348        34.8"
      ]
     },
     "execution_count": 14,
     "metadata": {},
     "output_type": "execute_result"
    }
   ],
   "source": [
    "freq_lunch = pd.DataFrame({'Frequência': frequencia_lunch, 'Percentual': percentual_lunch})\n",
    "freq_lunch"
   ]
  },
  {
   "cell_type": "code",
   "execution_count": 15,
   "id": "b7c684fe",
   "metadata": {},
   "outputs": [
    {
     "data": {
      "text/plain": [
       "Text(0.5, 1.0, 'Frequências - Almoço')"
      ]
     },
     "execution_count": 15,
     "metadata": {},
     "output_type": "execute_result"
    },
    {
     "data": {
      "image/png": "[encoded data removed]",
      "text/plain": [
       "<Figure size 432x288 with 1 Axes>"
      ]
     },
     "metadata": {
      "needs_background": "light"
     },
     "output_type": "display_data"
    }
   ],
   "source": [
    "ax4 = sns.barplot(data = freq_lunch, x = freq_lunch.index, y = 'Frequência')\n",
    "ax4.set_title('Frequências - Almoço')"
   ]
  },
  {
   "cell_type": "code",
   "execution_count": 16,
   "id": "1d5fe101",
   "metadata": {},
   "outputs": [],
   "source": [
    "frequencia_course = data['test preparation course'].value_counts()\n",
    "percentual_course = data['test preparation course'].value_counts(normalize=True)*100"
   ]
  },
  {
   "cell_type": "code",
   "execution_count": 17,
   "id": "dcee0953",
   "metadata": {},
   "outputs": [
    {
     "data": {
      "text/html": [
       "<div>\n",
       "<style scoped>\n",
       "    .dataframe tbody tr th:only-of-type {\n",
       "        vertical-align: middle;\n",
       "    }\n",
       "\n",
       "    .dataframe tbody tr th {\n",
       "        vertical-align: top;\n",
       "    }\n",
       "\n",
       "    .dataframe thead th {\n",
       "        text-align: right;\n",
       "    }\n",
       "</style>\n",
       "<table border=\"1\" class=\"dataframe\">\n",
       "  <thead>\n",
       "    <tr style=\"text-align: right;\">\n",
       "      <th></th>\n",
       "      <th>Frequência</th>\n",
       "      <th>Percentual</th>\n",
       "    </tr>\n",
       "  </thead>\n",
       "  <tbody>\n",
       "    <tr>\n",
       "      <th>none</th>\n",
       "      <td>665</td>\n",
       "      <td>66.5</td>\n",
       "    </tr>\n",
       "    <tr>\n",
       "      <th>completed</th>\n",
       "      <td>335</td>\n",
       "      <td>33.5</td>\n",
       "    </tr>\n",
       "  </tbody>\n",
       "</table>\n",
       "</div>"
      ],
      "text/plain": [
       "           Frequência  Percentual\n",
       "none              665        66.5\n",
       "completed         335        33.5"
      ]
     },
     "execution_count": 17,
     "metadata": {},
     "output_type": "execute_result"
    }
   ],
   "source": [
    "freq_course = pd.DataFrame({'Frequência': frequencia_course, 'Percentual': percentual_course})\n",
    "freq_course"
   ]
  },
  {
   "cell_type": "code",
   "execution_count": 18,
   "id": "07d8a287",
   "metadata": {},
   "outputs": [
    {
     "data": {
      "text/plain": [
       "Text(0.5, 1.0, 'Frequências - Curso preparatório')"
      ]
     },
     "execution_count": 18,
     "metadata": {},
     "output_type": "execute_result"
    },
    {
     "data": {
      "image/png": "[encoded data removed]",
      "text/plain": [
       "<Figure size 432x288 with 1 Axes>"
      ]
     },
     "metadata": {
      "needs_background": "light"
     },
     "output_type": "display_data"
    }
   ],
   "source": [
    "ax4 = sns.barplot(data = freq_course, x = freq_course.index, y = 'Frequência')\n",
    "ax4.set_title('Frequências - Curso preparatório')"
   ]
  },
  {
   "cell_type": "markdown",
   "id": "2d2c7e66",
   "metadata": {},
   "source": [
    "## Math Score - Análise Descritiva"
   ]
  },
  {
   "cell_type": "code",
   "execution_count": 19,
   "id": "70cf8cf7",
   "metadata": {},
   "outputs": [
    {
     "data": {
      "image/png": "[encoded data removed]",
      "text/plain": [
       "<Figure size 360x360 with 1 Axes>"
      ]
     },
     "metadata": {
      "needs_background": "light"
     },
     "output_type": "display_data"
    }
   ],
   "source": [
    "ax5 = sns.displot(data['math score'], kde=True)"
   ]
  },
  {
   "cell_type": "code",
   "execution_count": 20,
   "id": "de63cdba",
   "metadata": {},
   "outputs": [
    {
     "data": {
      "text/plain": [
       "66.396"
      ]
     },
     "execution_count": 20,
     "metadata": {},
     "output_type": "execute_result"
    }
   ],
   "source": [
    "data['math score'].mean()"
   ]
  },
  {
   "cell_type": "code",
   "execution_count": 21,
   "id": "030c8fd8",
   "metadata": {},
   "outputs": [
    {
     "data": {
      "text/plain": [
       "66.5"
      ]
     },
     "execution_count": 21,
     "metadata": {},
     "output_type": "execute_result"
    }
   ],
   "source": [
    "data['math score'].median()"
   ]
  },
  {
   "cell_type": "code",
   "execution_count": 22,
   "id": "7d881795",
   "metadata": {},
   "outputs": [
    {
     "data": {
      "text/plain": [
       "63"
      ]
     },
     "execution_count": 22,
     "metadata": {},
     "output_type": "execute_result"
    }
   ],
   "source": [
    "data['math score'].mode()[0]"
   ]
  },
  {
   "cell_type": "markdown",
   "id": "05a64c7f",
   "metadata": {},
   "source": [
    "-> mediana > média > moda : leve assimetria à esquerda, média pode representar bem o comportamento dos dados."
   ]
  },
  {
   "cell_type": "code",
   "execution_count": 23,
   "id": "8e35ea6e",
   "metadata": {},
   "outputs": [
    {
     "data": {
      "text/plain": [
       "12.490000000000002"
      ]
     },
     "execution_count": 23,
     "metadata": {},
     "output_type": "execute_result"
    }
   ],
   "source": [
    "data['math score'].mad()"
   ]
  },
  {
   "cell_type": "code",
   "execution_count": 24,
   "id": "f5920536",
   "metadata": {},
   "outputs": [
    {
     "data": {
      "text/plain": [
       "237.2484324324321"
      ]
     },
     "execution_count": 24,
     "metadata": {},
     "output_type": "execute_result"
    }
   ],
   "source": [
    "data['math score'].var()"
   ]
  },
  {
   "cell_type": "code",
   "execution_count": 25,
   "id": "c5c7224e",
   "metadata": {},
   "outputs": [
    {
     "data": {
      "text/plain": [
       "15.402870915268755"
      ]
     },
     "execution_count": 25,
     "metadata": {},
     "output_type": "execute_result"
    }
   ],
   "source": [
    "data['math score'].std()"
   ]
  },
  {
   "cell_type": "code",
   "execution_count": 26,
   "id": "539feefd",
   "metadata": {},
   "outputs": [
    {
     "data": {
      "text/plain": [
       "0.1    47.0\n",
       "0.2    53.0\n",
       "0.3    58.0\n",
       "0.4    63.0\n",
       "0.5    66.5\n",
       "0.6    71.0\n",
       "0.7    75.0\n",
       "0.8    80.0\n",
       "0.9    86.0\n",
       "Name: math score, dtype: float64"
      ]
     },
     "execution_count": 26,
     "metadata": {},
     "output_type": "execute_result"
    }
   ],
   "source": [
    "data['math score'].quantile([x/10 for x in range(1, 10)])"
   ]
  },
  {
   "cell_type": "markdown",
   "id": "2bbdac83",
   "metadata": {},
   "source": [
    "## Math score x Gender"
   ]
  },
  {
   "cell_type": "code",
   "execution_count": 27,
   "id": "475d0ead",
   "metadata": {},
   "outputs": [
    {
     "data": {
      "text/plain": [
       "<AxesSubplot:title={'center':'Math Score x Gender'}, xlabel='math score', ylabel='gender'>"
      ]
     },
     "execution_count": 27,
     "metadata": {},
     "output_type": "execute_result"
    },
    {
     "data": {
      "image/png": "[encoded data removed]",
      "text/plain": [
       "<Figure size 432x288 with 1 Axes>"
      ]
     },
     "metadata": {
      "needs_background": "light"
     },
     "output_type": "display_data"
    }
   ],
   "source": [
    "ax6 = sns.boxplot(data=data, x = data['math score'], y = data['gender'], orient='h')\n",
    "ax6.set_title('Math Score x Gender', fontsize=16)\n",
    "ax6"
   ]
  },
  {
   "cell_type": "markdown",
   "id": "3a17b39a",
   "metadata": {},
   "source": [
    "## Math Score x Gender x Race"
   ]
  },
  {
   "cell_type": "code",
   "execution_count": 28,
   "id": "dfaf8566",
   "metadata": {},
   "outputs": [
    {
     "data": {
      "text/plain": [
       "<AxesSubplot:xlabel='math score', ylabel='race/ethnicity'>"
      ]
     },
     "execution_count": 28,
     "metadata": {},
     "output_type": "execute_result"
    },
    {
     "data": {
      "image/png": "[encoded data removed]",
      "text/plain": [
       "<Figure size 432x288 with 1 Axes>"
      ]
     },
     "metadata": {
      "needs_background": "light"
     },
     "output_type": "display_data"
    }
   ],
   "source": [
    "ax7 = sns.boxplot(data = data, x = data['math score'], y = data['race/ethnicity'], hue = data['gender'], orient='h')\n",
    "ax7"
   ]
  },
  {
   "cell_type": "markdown",
   "id": "e8578a18",
   "metadata": {},
   "source": [
    "## Math Score x Parental Education"
   ]
  },
  {
   "cell_type": "code",
   "execution_count": 29,
   "id": "dad895cf",
   "metadata": {},
   "outputs": [
    {
     "data": {
      "text/plain": [
       "<AxesSubplot:xlabel='math score', ylabel='parental level of education'>"
      ]
     },
     "execution_count": 29,
     "metadata": {},
     "output_type": "execute_result"
    },
    {
     "data": {
      "image/png": "[encoded data removed]",
      "text/plain": [
       "<Figure size 432x288 with 1 Axes>"
      ]
     },
     "metadata": {
      "needs_background": "light"
     },
     "output_type": "display_data"
    }
   ],
   "source": [
    "ax8 = sns.boxplot(data = data, x = data['math score'], y = data['parental level of education'], orient = 'h')\n",
    "ax8"
   ]
  },
  {
   "cell_type": "markdown",
   "id": "d5326152",
   "metadata": {},
   "source": [
    "## Math Score x Parental Education x Gender"
   ]
  },
  {
   "cell_type": "code",
   "execution_count": 30,
   "id": "67a05b75",
   "metadata": {},
   "outputs": [
    {
     "data": {
      "text/plain": [
       "<AxesSubplot:xlabel='math score', ylabel='parental level of education'>"
      ]
     },
     "execution_count": 30,
     "metadata": {},
     "output_type": "execute_result"
    },
    {
     "data": {
      "image/png": "[encoded data removed]",
      "text/plain": [
       "<Figure size 432x288 with 1 Axes>"
      ]
     },
     "metadata": {
      "needs_background": "light"
     },
     "output_type": "display_data"
    }
   ],
   "source": [
    "ax9 = sns.boxplot(data = data, x = data['math score'], y = data['parental level of education'], hue = data['gender'], orient='h')\n",
    "ax9"
   ]
  },
  {
   "cell_type": "markdown",
   "id": "84fcd20c",
   "metadata": {},
   "source": [
    "## math_score x lunch"
   ]
  },
  {
   "cell_type": "code",
   "execution_count": 31,
   "id": "60242254",
   "metadata": {},
   "outputs": [
    {
     "data": {
      "text/plain": [
       "<AxesSubplot:xlabel='math score', ylabel='lunch'>"
      ]
     },
     "execution_count": 31,
     "metadata": {},
     "output_type": "execute_result"
    },
    {
     "data": {
      "image/png": "[encoded data removed]",
      "text/plain": [
       "<Figure size 432x288 with 1 Axes>"
      ]
     },
     "metadata": {
      "needs_background": "light"
     },
     "output_type": "display_data"
    }
   ],
   "source": [
    "ax10 = sns.boxplot(data = data, x = data['math score'], y = data['lunch'], orient = 'h')\n",
    "ax10"
   ]
  },
  {
   "cell_type": "markdown",
   "id": "a5a98806",
   "metadata": {},
   "source": [
    "## Math score x Course"
   ]
  },
  {
   "cell_type": "code",
   "execution_count": 32,
   "id": "b1dc4782",
   "metadata": {},
   "outputs": [
    {
     "data": {
      "text/plain": [
       "<AxesSubplot:xlabel='math score', ylabel='test preparation course'>"
      ]
     },
     "execution_count": 32,
     "metadata": {},
     "output_type": "execute_result"
    },
    {
     "data": {
      "image/png": "[encoded data removed]",
      "text/plain": [
       "<Figure size 432x288 with 1 Axes>"
      ]
     },
     "metadata": {
      "needs_background": "light"
     },
     "output_type": "display_data"
    }
   ],
   "source": [
    "ax11 = sns.boxplot(data = data, x = data['math score'], y = data['test preparation course'], orient = 'h')\n",
    "ax11"
   ]
  },
  {
   "cell_type": "markdown",
   "id": "9b99c002",
   "metadata": {},
   "source": [
    "## Math score x Course x Gender"
   ]
  },
  {
   "cell_type": "code",
   "execution_count": 33,
   "id": "33864a99",
   "metadata": {},
   "outputs": [
    {
     "data": {
      "text/plain": [
       "<AxesSubplot:xlabel='math score', ylabel='test preparation course'>"
      ]
     },
     "execution_count": 33,
     "metadata": {},
     "output_type": "execute_result"
    },
    {
     "data": {
      "image/png": "[encoded data removed]",
      "text/plain": [
       "<Figure size 432x288 with 1 Axes>"
      ]
     },
     "metadata": {
      "needs_background": "light"
     },
     "output_type": "display_data"
    }
   ],
   "source": [
    "ax12 = sns.boxplot(data = data, x = data['math score'], y = data['test preparation course'], hue = data['gender'], orient = 'h')\n",
    "ax12"
   ]
  },
  {
   "cell_type": "markdown",
   "id": "4c1d7c7c",
   "metadata": {},
   "source": [
    "## Math Score x Course x Lunch"
   ]
  },
  {
   "cell_type": "code",
   "execution_count": 34,
   "id": "9b1cdd71",
   "metadata": {},
   "outputs": [
    {
     "data": {
      "text/plain": [
       "<AxesSubplot:xlabel='math score', ylabel='test preparation course'>"
      ]
     },
     "execution_count": 34,
     "metadata": {},
     "output_type": "execute_result"
    },
    {
     "data": {
      "image/png": "[encoded data removed]",
      "text/plain": [
       "<Figure size 432x288 with 1 Axes>"
      ]
     },
     "metadata": {
      "needs_background": "light"
     },
     "output_type": "display_data"
    }
   ],
   "source": [
    "ax13 = sns.boxplot(data = data, x = data['math score'], y = data['test preparation course'], hue = data['lunch'], orient = 'h')\n",
    "ax13"
   ]
  },
  {
   "cell_type": "code",
   "execution_count": 35,
   "id": "cc646c75",
   "metadata": {},
   "outputs": [
    {
     "data": {
      "text/html": [
       "<div>\n",
       "<style scoped>\n",
       "    .dataframe tbody tr th:only-of-type {\n",
       "        vertical-align: middle;\n",
       "    }\n",
       "\n",
       "    .dataframe tbody tr th {\n",
       "        vertical-align: top;\n",
       "    }\n",
       "\n",
       "    .dataframe thead tr th {\n",
       "        text-align: left;\n",
       "    }\n",
       "\n",
       "    .dataframe thead tr:last-of-type th {\n",
       "        text-align: right;\n",
       "    }\n",
       "</style>\n",
       "<table border=\"1\" class=\"dataframe\">\n",
       "  <thead>\n",
       "    <tr>\n",
       "      <th></th>\n",
       "      <th colspan=\"7\" halign=\"left\">math score</th>\n",
       "    </tr>\n",
       "    <tr>\n",
       "      <th></th>\n",
       "      <th>mean</th>\n",
       "      <th>median</th>\n",
       "      <th>max</th>\n",
       "      <th>min</th>\n",
       "      <th>mad</th>\n",
       "      <th>var</th>\n",
       "      <th>std</th>\n",
       "    </tr>\n",
       "    <tr>\n",
       "      <th>test preparation course</th>\n",
       "      <th></th>\n",
       "      <th></th>\n",
       "      <th></th>\n",
       "      <th></th>\n",
       "      <th></th>\n",
       "      <th></th>\n",
       "      <th></th>\n",
       "    </tr>\n",
       "  </thead>\n",
       "  <tbody>\n",
       "    <tr>\n",
       "      <th>completed</th>\n",
       "      <td>69.686567</td>\n",
       "      <td>70.0</td>\n",
       "      <td>100</td>\n",
       "      <td>26</td>\n",
       "      <td>12.474850</td>\n",
       "      <td>231.551166</td>\n",
       "      <td>15.216805</td>\n",
       "    </tr>\n",
       "    <tr>\n",
       "      <th>none</th>\n",
       "      <td>64.738346</td>\n",
       "      <td>65.0</td>\n",
       "      <td>100</td>\n",
       "      <td>13</td>\n",
       "      <td>12.235907</td>\n",
       "      <td>232.256735</td>\n",
       "      <td>15.239972</td>\n",
       "    </tr>\n",
       "  </tbody>\n",
       "</table>\n",
       "</div>"
      ],
      "text/plain": [
       "                        math score                                         \\\n",
       "                              mean median  max min        mad         var   \n",
       "test preparation course                                                     \n",
       "completed                69.686567   70.0  100  26  12.474850  231.551166   \n",
       "none                     64.738346   65.0  100  13  12.235907  232.256735   \n",
       "\n",
       "                                    \n",
       "                               std  \n",
       "test preparation course             \n",
       "completed                15.216805  \n",
       "none                     15.239972  "
      ]
     },
     "execution_count": 35,
     "metadata": {},
     "output_type": "execute_result"
    }
   ],
   "source": [
    "df = pd.DataFrame(data.groupby(['test preparation course']).agg(\n",
    "    {'math score': ['mean', 'median', 'max', 'min', 'mad', 'var', 'std']}))\n",
    "df"
   ]
  },
  {
   "cell_type": "code",
   "execution_count": 36,
   "id": "82685d51",
   "metadata": {},
   "outputs": [
    {
     "data": {
      "text/plain": [
       "<AxesSubplot:xlabel='math score', ylabel='test preparation course'>"
      ]
     },
     "execution_count": 36,
     "metadata": {},
     "output_type": "execute_result"
    },
    {
     "data": {
      "image/png": "[encoded data removed]",
      "text/plain": [
       "<Figure size 432x288 with 1 Axes>"
      ]
     },
     "metadata": {
      "needs_background": "light"
     },
     "output_type": "display_data"
    }
   ],
   "source": [
    "sns.boxplot(data=data, x=data['math score'], y = data['test preparation course'], hue=data['lunch'], orient='h')"
   ]
  },
  {
   "cell_type": "markdown",
   "id": "e5dbbba5",
   "metadata": {},
   "source": [
    "## Conclusões"
   ]
  },
  {
   "cell_type": "markdown",
   "id": "95bfc778",
   "metadata": {},
   "source": [
    "-> O sexo masculino possui em geral notas melhores que o sexo feminino\n",
    "-> O grupo E possui as melhores notas. O grupo C possui as piores notas\n",
    "\n",
    "-> As notas em matemática são diretamente proporcionais a educação dos pais. A piores notas encontram-se em grupos cujos pais\n",
    "frequentaram apenas um pouco do ensino médio.\n",
    "\n",
    "-> Aqueles com almoço padrão possui melhores notas do que aqueles com almoço reduzido ou exagerado.\n",
    "-> Aqueles que completaram o curso possuem levemente melhores notas do que aqueles que não fizeram.\n",
    "\n",
    "-> A variância das notas entre aqueles que completaram o curso e não completaram é praticamente igual.\n",
    "-> O almoço possui maior contribuição na pontuação de matemática do que o completamento do curso."
   ]
  },
  {
   "cell_type": "markdown",
   "id": "554c0a18",
   "metadata": {},
   "source": [
    "## Reading Score - Análise Descritiva"
   ]
  },
  {
   "cell_type": "code",
   "execution_count": 37,
   "id": "02ef358f",
   "metadata": {},
   "outputs": [
    {
     "data": {
      "image/png": "[encoded data removed]",
      "text/plain": [
       "<Figure size 360x360 with 1 Axes>"
      ]
     },
     "metadata": {
      "needs_background": "light"
     },
     "output_type": "display_data"
    }
   ],
   "source": [
    "ax14 = sns.displot(data['reading score'], kde=True)"
   ]
  },
  {
   "cell_type": "code",
   "execution_count": 38,
   "id": "b37e40f9",
   "metadata": {},
   "outputs": [
    {
     "data": {
      "text/plain": [
       "69.002"
      ]
     },
     "execution_count": 38,
     "metadata": {},
     "output_type": "execute_result"
    }
   ],
   "source": [
    "data['reading score'].mean()"
   ]
  },
  {
   "cell_type": "code",
   "execution_count": 39,
   "id": "e16da923",
   "metadata": {},
   "outputs": [
    {
     "data": {
      "text/plain": [
       "70.0"
      ]
     },
     "execution_count": 39,
     "metadata": {},
     "output_type": "execute_result"
    }
   ],
   "source": [
    "data['reading score'].median()"
   ]
  },
  {
   "cell_type": "code",
   "execution_count": 40,
   "id": "aa8692d6",
   "metadata": {},
   "outputs": [
    {
     "data": {
      "text/plain": [
       "71"
      ]
     },
     "execution_count": 40,
     "metadata": {},
     "output_type": "execute_result"
    }
   ],
   "source": [
    "data['reading score'].mode()[0]"
   ]
  },
  {
   "cell_type": "markdown",
   "id": "36bd42dc",
   "metadata": {},
   "source": [
    "-> Leve assimetria à esquerda. Média continua a representar bem os dados."
   ]
  },
  {
   "cell_type": "code",
   "execution_count": 41,
   "id": "7eba0720",
   "metadata": {},
   "outputs": [
    {
     "data": {
      "text/plain": [
       "217.18718318318315"
      ]
     },
     "execution_count": 41,
     "metadata": {},
     "output_type": "execute_result"
    }
   ],
   "source": [
    "data['reading score'].var()"
   ]
  },
  {
   "cell_type": "code",
   "execution_count": 42,
   "id": "04518551",
   "metadata": {},
   "outputs": [
    {
     "data": {
      "text/plain": [
       "11.899959999999988"
      ]
     },
     "execution_count": 42,
     "metadata": {},
     "output_type": "execute_result"
    }
   ],
   "source": [
    "data['reading score'].mad()"
   ]
  },
  {
   "cell_type": "code",
   "execution_count": 43,
   "id": "cb396d16",
   "metadata": {},
   "outputs": [
    {
     "data": {
      "text/plain": [
       "14.737271904364903"
      ]
     },
     "execution_count": 43,
     "metadata": {},
     "output_type": "execute_result"
    }
   ],
   "source": [
    "data['reading score'].std()"
   ]
  },
  {
   "cell_type": "markdown",
   "id": "e7f9da07",
   "metadata": {},
   "source": [
    "## Reading Score x Gender"
   ]
  },
  {
   "cell_type": "code",
   "execution_count": 44,
   "id": "8548fded",
   "metadata": {},
   "outputs": [],
   "source": [
    "# tornando processo menos trabalhoso\n",
    "\n",
    "def quick_box(column, var):\n",
    "    ax = sns.boxplot(data=data, x = data[f'{column}'], y = data[f'{var}'], orient = 'h', hue=data['gender'])\n",
    "    return ax\n"
   ]
  },
  {
   "cell_type": "code",
   "execution_count": 45,
   "id": "50a4bec2",
   "metadata": {},
   "outputs": [
    {
     "data": {
      "text/plain": [
       "<AxesSubplot:xlabel='reading score', ylabel='gender'>"
      ]
     },
     "execution_count": 45,
     "metadata": {},
     "output_type": "execute_result"
    },
    {
     "data": {
      "image/png": "[encoded data removed]",
      "text/plain": [
       "<Figure size 432x288 with 1 Axes>"
      ]
     },
     "metadata": {
      "needs_background": "light"
     },
     "output_type": "display_data"
    }
   ],
   "source": [
    "quick_box('reading score', 'gender')"
   ]
  },
  {
   "cell_type": "markdown",
   "id": "aac105c5",
   "metadata": {},
   "source": [
    "## Reading Score x Race"
   ]
  },
  {
   "cell_type": "code",
   "execution_count": 46,
   "id": "c227d762",
   "metadata": {},
   "outputs": [
    {
     "data": {
      "text/plain": [
       "<AxesSubplot:xlabel='reading score', ylabel='race/ethnicity'>"
      ]
     },
     "execution_count": 46,
     "metadata": {},
     "output_type": "execute_result"
    },
    {
     "data": {
      "image/png": "[encoded data removed]",
      "text/plain": [
       "<Figure size 432x288 with 1 Axes>"
      ]
     },
     "metadata": {
      "needs_background": "light"
     },
     "output_type": "display_data"
    }
   ],
   "source": [
    "quick_box('reading score', 'race/ethnicity')"
   ]
  },
  {
   "cell_type": "markdown",
   "id": "95e4e07b",
   "metadata": {},
   "source": [
    "## Reading Score x Parental Level of Education"
   ]
  },
  {
   "cell_type": "code",
   "execution_count": 47,
   "id": "ae43edba",
   "metadata": {},
   "outputs": [
    {
     "data": {
      "text/plain": [
       "<AxesSubplot:xlabel='reading score', ylabel='parental level of education'>"
      ]
     },
     "execution_count": 47,
     "metadata": {},
     "output_type": "execute_result"
    },
    {
     "data": {
      "image/png": "[encoded data removed]",
      "text/plain": [
       "<Figure size 432x288 with 1 Axes>"
      ]
     },
     "metadata": {
      "needs_background": "light"
     },
     "output_type": "display_data"
    }
   ],
   "source": [
    "quick_box('reading score', 'parental level of education')"
   ]
  },
  {
   "cell_type": "markdown",
   "id": "81372c52",
   "metadata": {},
   "source": [
    "## Reading Score x Lunch"
   ]
  },
  {
   "cell_type": "code",
   "execution_count": 48,
   "id": "b714f22d",
   "metadata": {},
   "outputs": [
    {
     "data": {
      "text/plain": [
       "<AxesSubplot:xlabel='reading score', ylabel='lunch'>"
      ]
     },
     "execution_count": 48,
     "metadata": {},
     "output_type": "execute_result"
    },
    {
     "data": {
      "image/png": "[encoded data removed]",
      "text/plain": [
       "<Figure size 432x288 with 1 Axes>"
      ]
     },
     "metadata": {
      "needs_background": "light"
     },
     "output_type": "display_data"
    }
   ],
   "source": [
    "quick_box('reading score', 'lunch')"
   ]
  },
  {
   "cell_type": "markdown",
   "id": "d4a3926c",
   "metadata": {},
   "source": [
    "## Reading Score x Test preparation Course"
   ]
  },
  {
   "cell_type": "code",
   "execution_count": 49,
   "id": "af42823f",
   "metadata": {},
   "outputs": [
    {
     "data": {
      "text/plain": [
       "<AxesSubplot:xlabel='reading score', ylabel='test preparation course'>"
      ]
     },
     "execution_count": 49,
     "metadata": {},
     "output_type": "execute_result"
    },
    {
     "data": {
      "image/png": "[encoded data removed]",
      "text/plain": [
       "<Figure size 432x288 with 1 Axes>"
      ]
     },
     "metadata": {
      "needs_background": "light"
     },
     "output_type": "display_data"
    }
   ],
   "source": [
    "quick_box('reading score', 'test preparation course')"
   ]
  },
  {
   "cell_type": "markdown",
   "id": "866bfe53",
   "metadata": {},
   "source": [
    "## Conclusões"
   ]
  },
  {
   "cell_type": "markdown",
   "id": "c4640a94",
   "metadata": {},
   "source": [
    "-> O sexo feminino exibiu melhores resultados."
   ]
  },
  {
   "cell_type": "markdown",
   "id": "b4889f36",
   "metadata": {},
   "source": [
    "## Writing Score - Análise Descritiva"
   ]
  },
  {
   "cell_type": "code",
   "execution_count": 50,
   "id": "b235263a",
   "metadata": {},
   "outputs": [
    {
     "data": {
      "text/plain": [
       "<AxesSubplot:xlabel='writing score', ylabel='gender'>"
      ]
     },
     "execution_count": 50,
     "metadata": {},
     "output_type": "execute_result"
    },
    {
     "data": {
      "image/png": "[encoded data removed]",
      "text/plain": [
       "<Figure size 432x288 with 1 Axes>"
      ]
     },
     "metadata": {
      "needs_background": "light"
     },
     "output_type": "display_data"
    }
   ],
   "source": [
    "quick_box('writing score', 'gender')"
   ]
  },
  {
   "cell_type": "code",
   "execution_count": 51,
   "id": "283933e8",
   "metadata": {},
   "outputs": [
    {
     "data": {
      "text/plain": [
       "<AxesSubplot:xlabel='writing score', ylabel='race/ethnicity'>"
      ]
     },
     "execution_count": 51,
     "metadata": {},
     "output_type": "execute_result"
    },
    {
     "data": {
      "image/png": "[encoded data removed]",
      "text/plain": [
       "<Figure size 432x288 with 1 Axes>"
      ]
     },
     "metadata": {
      "needs_background": "light"
     },
     "output_type": "display_data"
    }
   ],
   "source": [
    "quick_box('writing score', 'race/ethnicity')"
   ]
  },
  {
   "cell_type": "code",
   "execution_count": 52,
   "id": "d333516f",
   "metadata": {},
   "outputs": [
    {
     "data": {
      "text/plain": [
       "<AxesSubplot:xlabel='writing score', ylabel='parental level of education'>"
      ]
     },
     "execution_count": 52,
     "metadata": {},
     "output_type": "execute_result"
    },
    {
     "data": {
      "image/png": "[encoded data removed]",
      "text/plain": [
       "<Figure size 432x288 with 1 Axes>"
      ]
     },
     "metadata": {
      "needs_background": "light"
     },
     "output_type": "display_data"
    }
   ],
   "source": [
    "quick_box('writing score', 'parental level of education')"
   ]
  },
  {
   "cell_type": "code",
   "execution_count": 53,
   "id": "fd1629c5",
   "metadata": {},
   "outputs": [
    {
     "data": {
      "text/plain": [
       "<AxesSubplot:xlabel='writing score', ylabel='lunch'>"
      ]
     },
     "execution_count": 53,
     "metadata": {},
     "output_type": "execute_result"
    },
    {
     "data": {
      "image/png": "[encoded data removed]",
      "text/plain": [
       "<Figure size 432x288 with 1 Axes>"
      ]
     },
     "metadata": {
      "needs_background": "light"
     },
     "output_type": "display_data"
    }
   ],
   "source": [
    "quick_box('writing score', 'lunch')"
   ]
  },
  {
   "cell_type": "code",
   "execution_count": 54,
   "id": "3d327472",
   "metadata": {},
   "outputs": [
    {
     "data": {
      "text/plain": [
       "<AxesSubplot:xlabel='writing score', ylabel='test preparation course'>"
      ]
     },
     "execution_count": 54,
     "metadata": {},
     "output_type": "execute_result"
    },
    {
     "data": {
      "image/png": "[encoded data removed]",
      "text/plain": [
       "<Figure size 432x288 with 1 Axes>"
      ]
     },
     "metadata": {
      "needs_background": "light"
     },
     "output_type": "display_data"
    }
   ],
   "source": [
    "quick_box('writing score', 'test preparation course')"
   ]
  },
  {
   "cell_type": "markdown",
   "id": "8e1965aa",
   "metadata": {},
   "source": [
    "## Comparando Resultados"
   ]
  },
  {
   "cell_type": "code",
   "execution_count": 55,
   "id": "d97d68c1",
   "metadata": {},
   "outputs": [
    {
     "data": {
      "text/plain": [
       "<seaborn.axisgrid.FacetGrid at 0x22b49add100>"
      ]
     },
     "execution_count": 55,
     "metadata": {},
     "output_type": "execute_result"
    },
    {
     "data": {
      "image/png": "[encoded data removed]",
      "text/plain": [
       "<Figure size 360x360 with 1 Axes>"
      ]
     },
     "metadata": {
      "needs_background": "light"
     },
     "output_type": "display_data"
    }
   ],
   "source": [
    "sns.displot(data['math score'], kde=True)"
   ]
  },
  {
   "cell_type": "code",
   "execution_count": 56,
   "id": "b41920ff",
   "metadata": {},
   "outputs": [
    {
     "data": {
      "text/plain": [
       "<seaborn.axisgrid.FacetGrid at 0x22b49954e80>"
      ]
     },
     "execution_count": 56,
     "metadata": {},
     "output_type": "execute_result"
    },
    {
     "data": {
      "image/png": "[encoded data removed]",
      "text/plain": [
       "<Figure size 360x360 with 1 Axes>"
      ]
     },
     "metadata": {
      "needs_background": "light"
     },
     "output_type": "display_data"
    }
   ],
   "source": [
    "sns.displot(data['writing score'], kde=True)"
   ]
  },
  {
   "cell_type": "code",
   "execution_count": 57,
   "id": "3207164b",
   "metadata": {},
   "outputs": [
    {
     "data": {
      "text/plain": [
       "<seaborn.axisgrid.FacetGrid at 0x22b49ae5220>"
      ]
     },
     "execution_count": 57,
     "metadata": {},
     "output_type": "execute_result"
    },
    {
     "data": {
      "image/png": "[encoded data removed]",
      "text/plain": [
       "<Figure size 360x360 with 1 Axes>"
      ]
     },
     "metadata": {
      "needs_background": "light"
     },
     "output_type": "display_data"
    }
   ],
   "source": [
    "sns.displot(data['reading score'], kde=True)"
   ]
  },
  {
   "cell_type": "code",
   "execution_count": 58,
   "id": "08632aa0",
   "metadata": {},
   "outputs": [],
   "source": [
    "columns = [data['math score'], data['writing score'], data['reading score']]\n",
    "\n",
    "mean = list(map(lambda x: x.mean(), columns))\n",
    "median = list(map(lambda x: x.median(), columns))\n",
    "maximum = list(map(lambda x: x.max(), columns))\n",
    "minimum = list(map(lambda x: x.min(), columns))\n",
    "mode = list(map(lambda x: x.mode()[0], columns))\n",
    "\n",
    "desvio_medio = list(map(lambda x: x.mad(), columns))\n",
    "variancia = list(map(lambda x: x.var(), columns))\n",
    "desvio_padrao = list(map(lambda x: x.std(), columns))\n",
    "\n",
    "index = ['math score', 'writing score', 'reading score']\n",
    "\n"
   ]
  },
  {
   "cell_type": "code",
   "execution_count": 59,
   "id": "70f296f0",
   "metadata": {},
   "outputs": [
    {
     "data": {
      "text/html": [
       "<div>\n",
       "<style scoped>\n",
       "    .dataframe tbody tr th:only-of-type {\n",
       "        vertical-align: middle;\n",
       "    }\n",
       "\n",
       "    .dataframe tbody tr th {\n",
       "        vertical-align: top;\n",
       "    }\n",
       "\n",
       "    .dataframe thead th {\n",
       "        text-align: right;\n",
       "    }\n",
       "</style>\n",
       "<table border=\"1\" class=\"dataframe\">\n",
       "  <thead>\n",
       "    <tr style=\"text-align: right;\">\n",
       "      <th></th>\n",
       "      <th>mean</th>\n",
       "      <th>median</th>\n",
       "      <th>mode</th>\n",
       "      <th>min</th>\n",
       "      <th>max</th>\n",
       "    </tr>\n",
       "  </thead>\n",
       "  <tbody>\n",
       "    <tr>\n",
       "      <th>math score</th>\n",
       "      <td>66.396</td>\n",
       "      <td>66.5</td>\n",
       "      <td>63</td>\n",
       "      <td>13</td>\n",
       "      <td>100</td>\n",
       "    </tr>\n",
       "    <tr>\n",
       "      <th>writing score</th>\n",
       "      <td>67.738</td>\n",
       "      <td>68.0</td>\n",
       "      <td>64</td>\n",
       "      <td>23</td>\n",
       "      <td>100</td>\n",
       "    </tr>\n",
       "    <tr>\n",
       "      <th>reading score</th>\n",
       "      <td>69.002</td>\n",
       "      <td>70.0</td>\n",
       "      <td>71</td>\n",
       "      <td>27</td>\n",
       "      <td>100</td>\n",
       "    </tr>\n",
       "  </tbody>\n",
       "</table>\n",
       "</div>"
      ],
      "text/plain": [
       "                 mean  median  mode  min  max\n",
       "math score     66.396    66.5    63   13  100\n",
       "writing score  67.738    68.0    64   23  100\n",
       "reading score  69.002    70.0    71   27  100"
      ]
     },
     "execution_count": 59,
     "metadata": {},
     "output_type": "execute_result"
    }
   ],
   "source": [
    "notas_central = pd.DataFrame({'mean': mean, 'median': median, 'mode': mode, 'min': minimum, 'max': maximum}, index=index)\n",
    "notas_central"
   ]
  },
  {
   "cell_type": "markdown",
   "id": "890ace12",
   "metadata": {},
   "source": [
    "As melhores pontuações são de 1º reading score, 2º writing score e 3º math score"
   ]
  },
  {
   "cell_type": "code",
   "execution_count": 60,
   "id": "a682d757",
   "metadata": {},
   "outputs": [
    {
     "data": {
      "text/html": [
       "<div>\n",
       "<style scoped>\n",
       "    .dataframe tbody tr th:only-of-type {\n",
       "        vertical-align: middle;\n",
       "    }\n",
       "\n",
       "    .dataframe tbody tr th {\n",
       "        vertical-align: top;\n",
       "    }\n",
       "\n",
       "    .dataframe thead th {\n",
       "        text-align: right;\n",
       "    }\n",
       "</style>\n",
       "<table border=\"1\" class=\"dataframe\">\n",
       "  <thead>\n",
       "    <tr style=\"text-align: right;\">\n",
       "      <th></th>\n",
       "      <th>desvio_médio</th>\n",
       "      <th>variância</th>\n",
       "      <th>desvio_padrão</th>\n",
       "    </tr>\n",
       "  </thead>\n",
       "  <tbody>\n",
       "    <tr>\n",
       "      <th>math score</th>\n",
       "      <td>12.49000</td>\n",
       "      <td>237.248432</td>\n",
       "      <td>15.402871</td>\n",
       "    </tr>\n",
       "    <tr>\n",
       "      <th>writing score</th>\n",
       "      <td>12.57724</td>\n",
       "      <td>243.390747</td>\n",
       "      <td>15.600985</td>\n",
       "    </tr>\n",
       "    <tr>\n",
       "      <th>reading score</th>\n",
       "      <td>11.89996</td>\n",
       "      <td>217.187183</td>\n",
       "      <td>14.737272</td>\n",
       "    </tr>\n",
       "  </tbody>\n",
       "</table>\n",
       "</div>"
      ],
      "text/plain": [
       "               desvio_médio   variância  desvio_padrão\n",
       "math score         12.49000  237.248432      15.402871\n",
       "writing score      12.57724  243.390747      15.600985\n",
       "reading score      11.89996  217.187183      14.737272"
      ]
     },
     "execution_count": 60,
     "metadata": {},
     "output_type": "execute_result"
    }
   ],
   "source": [
    "notas_variacao = pd.DataFrame({'desvio_médio': desvio_medio, 'variância': variancia, 'desvio_padrão': desvio_padrao}, \n",
    "                              index=index)\n",
    "notas_variacao"
   ]
  },
  {
   "cell_type": "markdown",
   "id": "ae768e15",
   "metadata": {},
   "source": [
    "As maiores variações são: 1º writing score, 2º math score, 3º reading score"
   ]
  },
  {
   "cell_type": "markdown",
   "id": "50ef98dd",
   "metadata": {},
   "source": [
    "Características que favorecem a nota: lunch standard, curso completo, ser do grupo E, ter parente com mestrado."
   ]
  },
  {
   "cell_type": "markdown",
   "id": "33e1a306",
   "metadata": {},
   "source": [
    "## Em quais matérias o curso mais ajudou?"
   ]
  },
  {
   "cell_type": "markdown",
   "id": "0e4b8ed5",
   "metadata": {},
   "source": [
    "Verificação Visual"
   ]
  },
  {
   "cell_type": "markdown",
   "id": "d7e3f290",
   "metadata": {},
   "source": [
    "Matemática:"
   ]
  },
  {
   "cell_type": "code",
   "execution_count": 61,
   "id": "24de5657",
   "metadata": {},
   "outputs": [
    {
     "data": {
      "text/plain": [
       "<AxesSubplot:xlabel='math score', ylabel='test preparation course'>"
      ]
     },
     "execution_count": 61,
     "metadata": {},
     "output_type": "execute_result"
    },
    {
     "data": {
      "image/png": "[encoded data removed]",
      "text/plain": [
       "<Figure size 432x288 with 1 Axes>"
      ]
     },
     "metadata": {
      "needs_background": "light"
     },
     "output_type": "display_data"
    }
   ],
   "source": [
    "sns.boxplot(data=data, x=data['math score'], y=data['test preparation course'])"
   ]
  },
  {
   "cell_type": "markdown",
   "id": "742c1bef",
   "metadata": {},
   "source": [
    "Leitura:"
   ]
  },
  {
   "cell_type": "code",
   "execution_count": 62,
   "id": "d0eb91af",
   "metadata": {},
   "outputs": [
    {
     "data": {
      "text/plain": [
       "<AxesSubplot:xlabel='reading score', ylabel='test preparation course'>"
      ]
     },
     "execution_count": 62,
     "metadata": {},
     "output_type": "execute_result"
    },
    {
     "data": {
      "image/png": "[encoded data removed]",
      "text/plain": [
       "<Figure size 432x288 with 1 Axes>"
      ]
     },
     "metadata": {
      "needs_background": "light"
     },
     "output_type": "display_data"
    }
   ],
   "source": [
    "sns.boxplot(data=data, x=data['reading score'], y=data['test preparation course'])"
   ]
  },
  {
   "cell_type": "markdown",
   "id": "daef7760",
   "metadata": {},
   "source": [
    "Escrita:"
   ]
  },
  {
   "cell_type": "code",
   "execution_count": 63,
   "id": "831fab99",
   "metadata": {},
   "outputs": [
    {
     "data": {
      "text/plain": [
       "<AxesSubplot:xlabel='writing score', ylabel='test preparation course'>"
      ]
     },
     "execution_count": 63,
     "metadata": {},
     "output_type": "execute_result"
    },
    {
     "data": {
      "image/png": "[encoded data removed]",
      "text/plain": [
       "<Figure size 432x288 with 1 Axes>"
      ]
     },
     "metadata": {
      "needs_background": "light"
     },
     "output_type": "display_data"
    }
   ],
   "source": [
    "sns.boxplot(data=data, x=data['writing score'], y=data['test preparation course'])"
   ]
  },
  {
   "cell_type": "markdown",
   "id": "4b1ce186",
   "metadata": {},
   "source": [
    "VERIFICAÇÃO NUMÉRICA:"
   ]
  },
  {
   "cell_type": "code",
   "execution_count": 64,
   "id": "a1885467",
   "metadata": {},
   "outputs": [
    {
     "data": {
      "text/html": [
       "<div>\n",
       "<style scoped>\n",
       "    .dataframe tbody tr th:only-of-type {\n",
       "        vertical-align: middle;\n",
       "    }\n",
       "\n",
       "    .dataframe tbody tr th {\n",
       "        vertical-align: top;\n",
       "    }\n",
       "\n",
       "    .dataframe thead tr th {\n",
       "        text-align: left;\n",
       "    }\n",
       "\n",
       "    .dataframe thead tr:last-of-type th {\n",
       "        text-align: right;\n",
       "    }\n",
       "</style>\n",
       "<table border=\"1\" class=\"dataframe\">\n",
       "  <thead>\n",
       "    <tr>\n",
       "      <th></th>\n",
       "      <th colspan=\"5\" halign=\"left\">math score</th>\n",
       "      <th colspan=\"5\" halign=\"left\">reading score</th>\n",
       "      <th colspan=\"5\" halign=\"left\">writing score</th>\n",
       "    </tr>\n",
       "    <tr>\n",
       "      <th></th>\n",
       "      <th>mean</th>\n",
       "      <th>median</th>\n",
       "      <th>mad</th>\n",
       "      <th>var</th>\n",
       "      <th>std</th>\n",
       "      <th>mean</th>\n",
       "      <th>median</th>\n",
       "      <th>mad</th>\n",
       "      <th>var</th>\n",
       "      <th>std</th>\n",
       "      <th>mean</th>\n",
       "      <th>median</th>\n",
       "      <th>mad</th>\n",
       "      <th>var</th>\n",
       "      <th>std</th>\n",
       "    </tr>\n",
       "    <tr>\n",
       "      <th>test preparation course</th>\n",
       "      <th></th>\n",
       "      <th></th>\n",
       "      <th></th>\n",
       "      <th></th>\n",
       "      <th></th>\n",
       "      <th></th>\n",
       "      <th></th>\n",
       "      <th></th>\n",
       "      <th></th>\n",
       "      <th></th>\n",
       "      <th></th>\n",
       "      <th></th>\n",
       "      <th></th>\n",
       "      <th></th>\n",
       "      <th></th>\n",
       "    </tr>\n",
       "  </thead>\n",
       "  <tbody>\n",
       "    <tr>\n",
       "      <th>completed</th>\n",
       "      <td>69.686567</td>\n",
       "      <td>70.0</td>\n",
       "      <td>12.474850</td>\n",
       "      <td>231.551166</td>\n",
       "      <td>15.216805</td>\n",
       "      <td>74.089552</td>\n",
       "      <td>74.0</td>\n",
       "      <td>10.950056</td>\n",
       "      <td>188.261417</td>\n",
       "      <td>13.720839</td>\n",
       "      <td>74.671642</td>\n",
       "      <td>75.0</td>\n",
       "      <td>11.372065</td>\n",
       "      <td>199.640361</td>\n",
       "      <td>14.129415</td>\n",
       "    </tr>\n",
       "    <tr>\n",
       "      <th>none</th>\n",
       "      <td>64.738346</td>\n",
       "      <td>65.0</td>\n",
       "      <td>12.235907</td>\n",
       "      <td>232.256735</td>\n",
       "      <td>15.239972</td>\n",
       "      <td>66.439098</td>\n",
       "      <td>66.0</td>\n",
       "      <td>11.827545</td>\n",
       "      <td>212.427385</td>\n",
       "      <td>14.574889</td>\n",
       "      <td>64.245113</td>\n",
       "      <td>64.0</td>\n",
       "      <td>12.164220</td>\n",
       "      <td>229.290733</td>\n",
       "      <td>15.142349</td>\n",
       "    </tr>\n",
       "  </tbody>\n",
       "</table>\n",
       "</div>"
      ],
      "text/plain": [
       "                        math score                                           \\\n",
       "                              mean median        mad         var        std   \n",
       "test preparation course                                                       \n",
       "completed                69.686567   70.0  12.474850  231.551166  15.216805   \n",
       "none                     64.738346   65.0  12.235907  232.256735  15.239972   \n",
       "\n",
       "                        reading score                                \\\n",
       "                                 mean median        mad         var   \n",
       "test preparation course                                               \n",
       "completed                   74.089552   74.0  10.950056  188.261417   \n",
       "none                        66.439098   66.0  11.827545  212.427385   \n",
       "\n",
       "                                   writing score                    \\\n",
       "                               std          mean median        mad   \n",
       "test preparation course                                              \n",
       "completed                13.720839     74.671642   75.0  11.372065   \n",
       "none                     14.574889     64.245113   64.0  12.164220   \n",
       "\n",
       "                                                \n",
       "                                var        std  \n",
       "test preparation course                         \n",
       "completed                199.640361  14.129415  \n",
       "none                     229.290733  15.142349  "
      ]
     },
     "execution_count": 64,
     "metadata": {},
     "output_type": "execute_result"
    }
   ],
   "source": [
    "pd.options.display.max_columns = 24\n",
    "\n",
    "function_list = ['mean', 'median', 'mad', 'var', 'std']\n",
    "df = pd.DataFrame(data.groupby(['test preparation course']).agg(\n",
    "    {'math score': function_list, 'reading score': function_list, 'writing score': function_list}))\n",
    "\n",
    "\n",
    "\n",
    "df"
   ]
  },
  {
   "cell_type": "code",
   "execution_count": 65,
   "id": "d94a9a70",
   "metadata": {},
   "outputs": [],
   "source": [
    "def diferenca_percentual(a, b):\n",
    "    x = b*100/a\n",
    "    d = x - 100\n",
    "    return d"
   ]
  },
  {
   "cell_type": "markdown",
   "id": "2a61dd15",
   "metadata": {},
   "source": [
    "## Diferenças Percentuais"
   ]
  },
  {
   "cell_type": "markdown",
   "id": "6cf06724",
   "metadata": {},
   "source": [
    "Math score: \n",
    "Média: 7.64%\n",
    "Mediana: 7.69%\n",
    "\n",
    ":7.6 %\n",
    "\n",
    "Reading score:\n",
    "Média: 11.51%\n",
    "Mediana: 12.12%\n",
    "\n",
    ": 11.8 %\n",
    "\n",
    "Writing score:\n",
    "Média: 16.22%\n",
    "Mediana: 17.18%\n",
    "\n",
    ":16.7%"
   ]
  },
  {
   "cell_type": "markdown",
   "id": "ad4e37fb",
   "metadata": {},
   "source": [
    "As matérias com maiores diferenças nas notas entre alunos que fizeram o curso e não fizeram é o Writing Score\n",
    "seguido por Reading score e por último Math score.\n",
    "\n",
    "O curso precisa investir mais no aprendizado de matemática.\n",
    "\n",
    "Grande parte dos que fizeram o curso obteram notas 16.7% maiores em writing do que aqueles que não fizeram"
   ]
  },
  {
   "cell_type": "code",
   "execution_count": 66,
   "id": "1bbc8ede",
   "metadata": {},
   "outputs": [],
   "source": [
    "## Comparações com a média das notas"
   ]
  },
  {
   "cell_type": "code",
   "execution_count": null,
   "id": "a365c276",
   "metadata": {},
   "outputs": [],
   "source": [
    "QUANTO MAIOR A VARIAÇÃO DA MÉDIA CENTRAL, MAIS DETERMINADA CARACTERÍSTICA INFLUENCIA NA NOTA FINAL"
   ]
  },
  {
   "cell_type": "code",
   "execution_count": 106,
   "id": "f9e013a7",
   "metadata": {},
   "outputs": [],
   "source": [
    "data['mean'] = (data['math score'] + data['reading score'] + data['writing score'])/3"
   ]
  },
  {
   "cell_type": "code",
   "execution_count": 107,
   "id": "456b4f31",
   "metadata": {},
   "outputs": [],
   "source": [
    "df1 = pd.DataFrame({'mean':data.groupby(['gender'])['mean'].mean(), 'median': data.groupby(['gender'])['mean'].median()})"
   ]
  },
  {
   "cell_type": "code",
   "execution_count": 108,
   "id": "7a8d9555",
   "metadata": {},
   "outputs": [
    {
     "data": {
      "text/html": [
       "<div>\n",
       "<style scoped>\n",
       "    .dataframe tbody tr th:only-of-type {\n",
       "        vertical-align: middle;\n",
       "    }\n",
       "\n",
       "    .dataframe tbody tr th {\n",
       "        vertical-align: top;\n",
       "    }\n",
       "\n",
       "    .dataframe thead th {\n",
       "        text-align: right;\n",
       "    }\n",
       "</style>\n",
       "<table border=\"1\" class=\"dataframe\">\n",
       "  <thead>\n",
       "    <tr style=\"text-align: right;\">\n",
       "      <th></th>\n",
       "      <th>mean</th>\n",
       "      <th>median</th>\n",
       "      <th>mode</th>\n",
       "      <th>central_mean</th>\n",
       "    </tr>\n",
       "    <tr>\n",
       "      <th>gender</th>\n",
       "      <th></th>\n",
       "      <th></th>\n",
       "      <th></th>\n",
       "      <th></th>\n",
       "    </tr>\n",
       "  </thead>\n",
       "  <tbody>\n",
       "    <tr>\n",
       "      <th>female</th>\n",
       "      <td>68.930987</td>\n",
       "      <td>68.666667</td>\n",
       "      <td>79.000000</td>\n",
       "      <td>72.199218</td>\n",
       "    </tr>\n",
       "    <tr>\n",
       "      <th>male</th>\n",
       "      <td>66.573179</td>\n",
       "      <td>67.000000</td>\n",
       "      <td>63.666667</td>\n",
       "      <td>65.746615</td>\n",
       "    </tr>\n",
       "  </tbody>\n",
       "</table>\n",
       "</div>"
      ],
      "text/plain": [
       "             mean     median       mode  central_mean\n",
       "gender                                               \n",
       "female  68.930987  68.666667  79.000000     72.199218\n",
       "male    66.573179  67.000000  63.666667     65.746615"
      ]
     },
     "execution_count": 108,
     "metadata": {},
     "output_type": "execute_result"
    }
   ],
   "source": [
    "mode_m = data.query(\"gender == 'male'\")['mean'].mode()[0]\n",
    "mode_f = data.query(\"gender == 'female'\")['mean'].mode()[0]\n",
    "df1['mode'] = [mode_f, mode_m]\n",
    "df1['central_mean'] = (df1['mean'] + df1['median'] + df1['mode'])/3\n",
    "df1"
   ]
  },
  {
   "cell_type": "code",
   "execution_count": 109,
   "id": "122794e5",
   "metadata": {},
   "outputs": [
    {
     "data": {
      "text/plain": [
       "20.818041217255995"
      ]
     },
     "execution_count": 109,
     "metadata": {},
     "output_type": "execute_result"
    }
   ],
   "source": [
    "df1['central_mean'].var()"
   ]
  },
  {
   "cell_type": "markdown",
   "id": "a63f2b48",
   "metadata": {},
   "source": [
    "females have grades around 6.45 % higher than males.\n",
    "A variação das médias centrais segundo o sexo foi de 20.81"
   ]
  },
  {
   "cell_type": "code",
   "execution_count": 110,
   "id": "d6ecdbcb",
   "metadata": {},
   "outputs": [
    {
     "data": {
      "text/html": [
       "<div>\n",
       "<style scoped>\n",
       "    .dataframe tbody tr th:only-of-type {\n",
       "        vertical-align: middle;\n",
       "    }\n",
       "\n",
       "    .dataframe tbody tr th {\n",
       "        vertical-align: top;\n",
       "    }\n",
       "\n",
       "    .dataframe thead th {\n",
       "        text-align: right;\n",
       "    }\n",
       "</style>\n",
       "<table border=\"1\" class=\"dataframe\">\n",
       "  <thead>\n",
       "    <tr style=\"text-align: right;\">\n",
       "      <th></th>\n",
       "      <th>mean</th>\n",
       "      <th>median</th>\n",
       "      <th>central_mean</th>\n",
       "    </tr>\n",
       "    <tr>\n",
       "      <th>race/ethnicity</th>\n",
       "      <th></th>\n",
       "      <th></th>\n",
       "      <th></th>\n",
       "    </tr>\n",
       "  </thead>\n",
       "  <tbody>\n",
       "    <tr>\n",
       "      <th>group A</th>\n",
       "      <td>66.915612</td>\n",
       "      <td>66.333333</td>\n",
       "      <td>66.624473</td>\n",
       "    </tr>\n",
       "    <tr>\n",
       "      <th>group B</th>\n",
       "      <td>65.336585</td>\n",
       "      <td>64.333333</td>\n",
       "      <td>64.834959</td>\n",
       "    </tr>\n",
       "    <tr>\n",
       "      <th>group C</th>\n",
       "      <td>64.679051</td>\n",
       "      <td>65.000000</td>\n",
       "      <td>64.839525</td>\n",
       "    </tr>\n",
       "    <tr>\n",
       "      <th>group D</th>\n",
       "      <td>71.204835</td>\n",
       "      <td>71.166667</td>\n",
       "      <td>71.185751</td>\n",
       "    </tr>\n",
       "    <tr>\n",
       "      <th>group E</th>\n",
       "      <td>72.402036</td>\n",
       "      <td>73.666667</td>\n",
       "      <td>73.034351</td>\n",
       "    </tr>\n",
       "  </tbody>\n",
       "</table>\n",
       "</div>"
      ],
      "text/plain": [
       "                     mean     median  central_mean\n",
       "race/ethnicity                                    \n",
       "group A         66.915612  66.333333     66.624473\n",
       "group B         65.336585  64.333333     64.834959\n",
       "group C         64.679051  65.000000     64.839525\n",
       "group D         71.204835  71.166667     71.185751\n",
       "group E         72.402036  73.666667     73.034351"
      ]
     },
     "execution_count": 110,
     "metadata": {},
     "output_type": "execute_result"
    }
   ],
   "source": [
    "df2 = pd.DataFrame({'mean': data.groupby('race/ethnicity')['mean'].mean(), 'median': \n",
    "                   data.groupby('race/ethnicity')['mean'].median()})\n",
    "df2['central_mean'] = (df2['mean'] + df2['median'])/2\n",
    "df2"
   ]
  },
  {
   "cell_type": "code",
   "execution_count": 111,
   "id": "cdbf1215",
   "metadata": {},
   "outputs": [
    {
     "data": {
      "text/plain": [
       "14.33449314276878"
      ]
     },
     "execution_count": 111,
     "metadata": {},
     "output_type": "execute_result"
    }
   ],
   "source": [
    "df2['central_mean'].var()"
   ]
  },
  {
   "cell_type": "markdown",
   "id": "fd275ba6",
   "metadata": {},
   "source": [
    "A variação das médias centrais segundo as raças foi de 14.33"
   ]
  },
  {
   "cell_type": "code",
   "execution_count": 112,
   "id": "024d9162",
   "metadata": {},
   "outputs": [
    {
     "data": {
      "text/html": [
       "<div>\n",
       "<style scoped>\n",
       "    .dataframe tbody tr th:only-of-type {\n",
       "        vertical-align: middle;\n",
       "    }\n",
       "\n",
       "    .dataframe tbody tr th {\n",
       "        vertical-align: top;\n",
       "    }\n",
       "\n",
       "    .dataframe thead th {\n",
       "        text-align: right;\n",
       "    }\n",
       "</style>\n",
       "<table border=\"1\" class=\"dataframe\">\n",
       "  <thead>\n",
       "    <tr style=\"text-align: right;\">\n",
       "      <th></th>\n",
       "      <th>mean</th>\n",
       "      <th>median</th>\n",
       "      <th>central_mean</th>\n",
       "    </tr>\n",
       "    <tr>\n",
       "      <th>parental level of education</th>\n",
       "      <th></th>\n",
       "      <th></th>\n",
       "      <th></th>\n",
       "    </tr>\n",
       "  </thead>\n",
       "  <tbody>\n",
       "    <tr>\n",
       "      <th>associate's degree</th>\n",
       "      <td>70.211823</td>\n",
       "      <td>70.666667</td>\n",
       "      <td>70.439245</td>\n",
       "    </tr>\n",
       "    <tr>\n",
       "      <th>bachelor's degree</th>\n",
       "      <td>73.303571</td>\n",
       "      <td>73.500000</td>\n",
       "      <td>73.401786</td>\n",
       "    </tr>\n",
       "    <tr>\n",
       "      <th>high school</th>\n",
       "      <td>65.818482</td>\n",
       "      <td>66.166667</td>\n",
       "      <td>65.992574</td>\n",
       "    </tr>\n",
       "    <tr>\n",
       "      <th>master's degree</th>\n",
       "      <td>74.300000</td>\n",
       "      <td>75.500000</td>\n",
       "      <td>74.900000</td>\n",
       "    </tr>\n",
       "    <tr>\n",
       "      <th>some college</th>\n",
       "      <td>66.692192</td>\n",
       "      <td>67.666667</td>\n",
       "      <td>67.179429</td>\n",
       "    </tr>\n",
       "    <tr>\n",
       "      <th>some high school</th>\n",
       "      <td>62.549738</td>\n",
       "      <td>62.666667</td>\n",
       "      <td>62.608202</td>\n",
       "    </tr>\n",
       "  </tbody>\n",
       "</table>\n",
       "</div>"
      ],
      "text/plain": [
       "                                  mean     median  central_mean\n",
       "parental level of education                                    \n",
       "associate's degree           70.211823  70.666667     70.439245\n",
       "bachelor's degree            73.303571  73.500000     73.401786\n",
       "high school                  65.818482  66.166667     65.992574\n",
       "master's degree              74.300000  75.500000     74.900000\n",
       "some college                 66.692192  67.666667     67.179429\n",
       "some high school             62.549738  62.666667     62.608202"
      ]
     },
     "execution_count": 112,
     "metadata": {},
     "output_type": "execute_result"
    }
   ],
   "source": [
    "d = data.groupby('parental level of education')\n",
    "df3 = pd.DataFrame({'mean': d['mean'].mean(), 'median': \n",
    "                   d['mean'].median()})\n",
    "df3['central_mean'] = (df3['mean'] + df3['median'])/2\n",
    "df3"
   ]
  },
  {
   "cell_type": "code",
   "execution_count": 113,
   "id": "0d279188",
   "metadata": {},
   "outputs": [
    {
     "data": {
      "text/plain": [
       "21.88520484633184"
      ]
     },
     "execution_count": 113,
     "metadata": {},
     "output_type": "execute_result"
    }
   ],
   "source": [
    "df3['central_mean'].var()"
   ]
  },
  {
   "cell_type": "markdown",
   "id": "dea9ad79",
   "metadata": {},
   "source": [
    "A variação da média central segundo a escolaridade dos pais foi de 21.88"
   ]
  },
  {
   "cell_type": "code",
   "execution_count": 118,
   "id": "dea299ba",
   "metadata": {},
   "outputs": [
    {
     "data": {
      "text/html": [
       "<div>\n",
       "<style scoped>\n",
       "    .dataframe tbody tr th:only-of-type {\n",
       "        vertical-align: middle;\n",
       "    }\n",
       "\n",
       "    .dataframe tbody tr th {\n",
       "        vertical-align: top;\n",
       "    }\n",
       "\n",
       "    .dataframe thead th {\n",
       "        text-align: right;\n",
       "    }\n",
       "</style>\n",
       "<table border=\"1\" class=\"dataframe\">\n",
       "  <thead>\n",
       "    <tr style=\"text-align: right;\">\n",
       "      <th></th>\n",
       "      <th>mean</th>\n",
       "      <th>median</th>\n",
       "      <th>mode</th>\n",
       "      <th>central_mean</th>\n",
       "    </tr>\n",
       "    <tr>\n",
       "      <th>lunch</th>\n",
       "      <th></th>\n",
       "      <th></th>\n",
       "      <th></th>\n",
       "      <th></th>\n",
       "    </tr>\n",
       "  </thead>\n",
       "  <tbody>\n",
       "    <tr>\n",
       "      <th>free/reduced</th>\n",
       "      <td>60.873563</td>\n",
       "      <td>61.500000</td>\n",
       "      <td>62.000000</td>\n",
       "      <td>61.457854</td>\n",
       "    </tr>\n",
       "    <tr>\n",
       "      <th>standard</th>\n",
       "      <td>71.361963</td>\n",
       "      <td>71.833333</td>\n",
       "      <td>63.666667</td>\n",
       "      <td>68.953988</td>\n",
       "    </tr>\n",
       "  </tbody>\n",
       "</table>\n",
       "</div>"
      ],
      "text/plain": [
       "                   mean     median       mode  central_mean\n",
       "lunch                                                      \n",
       "free/reduced  60.873563  61.500000  62.000000     61.457854\n",
       "standard      71.361963  71.833333  63.666667     68.953988"
      ]
     },
     "execution_count": 118,
     "metadata": {},
     "output_type": "execute_result"
    }
   ],
   "source": [
    "d = data.groupby('lunch')\n",
    "df4 = pd.DataFrame({'mean': d['mean'].mean(), 'median': \n",
    "                   d['mean'].median()})\n",
    "df4['mode'] = [data.query(\"lunch == 'free/reduced'\")['mean'].mode()[0], data.query(\"lunch == 'standard'\")['mean'].mode()[0]]\n",
    "df4['central_mean'] = (df4['mean'] + df4['median'] + df4['mode'])/3\n",
    "df4"
   ]
  },
  {
   "cell_type": "code",
   "execution_count": 119,
   "id": "028d9496",
   "metadata": {},
   "outputs": [
    {
     "data": {
      "text/plain": [
       "28.09600740507493"
      ]
     },
     "execution_count": 119,
     "metadata": {},
     "output_type": "execute_result"
    }
   ],
   "source": [
    "df4['central_mean'].var()"
   ]
  },
  {
   "cell_type": "markdown",
   "id": "6dbd354e",
   "metadata": {},
   "source": [
    "A variação das médias centrais segundo o tipo de almoço foi de 28.09"
   ]
  },
  {
   "cell_type": "code",
   "execution_count": 121,
   "id": "fa4f3040",
   "metadata": {},
   "outputs": [
    {
     "data": {
      "text/html": [
       "<div>\n",
       "<style scoped>\n",
       "    .dataframe tbody tr th:only-of-type {\n",
       "        vertical-align: middle;\n",
       "    }\n",
       "\n",
       "    .dataframe tbody tr th {\n",
       "        vertical-align: top;\n",
       "    }\n",
       "\n",
       "    .dataframe thead th {\n",
       "        text-align: right;\n",
       "    }\n",
       "</style>\n",
       "<table border=\"1\" class=\"dataframe\">\n",
       "  <thead>\n",
       "    <tr style=\"text-align: right;\">\n",
       "      <th></th>\n",
       "      <th>mean</th>\n",
       "      <th>median</th>\n",
       "      <th>mode</th>\n",
       "      <th>central_mean</th>\n",
       "    </tr>\n",
       "    <tr>\n",
       "      <th>test preparation course</th>\n",
       "      <th></th>\n",
       "      <th></th>\n",
       "      <th></th>\n",
       "      <th></th>\n",
       "    </tr>\n",
       "  </thead>\n",
       "  <tbody>\n",
       "    <tr>\n",
       "      <th>completed</th>\n",
       "      <td>72.815920</td>\n",
       "      <td>73.666667</td>\n",
       "      <td>76.666667</td>\n",
       "      <td>74.383085</td>\n",
       "    </tr>\n",
       "    <tr>\n",
       "      <th>none</th>\n",
       "      <td>65.140852</td>\n",
       "      <td>65.333333</td>\n",
       "      <td>63.666667</td>\n",
       "      <td>64.713617</td>\n",
       "    </tr>\n",
       "  </tbody>\n",
       "</table>\n",
       "</div>"
      ],
      "text/plain": [
       "                              mean     median       mode  central_mean\n",
       "test preparation course                                               \n",
       "completed                72.815920  73.666667  76.666667     74.383085\n",
       "none                     65.140852  65.333333  63.666667     64.713617"
      ]
     },
     "execution_count": 121,
     "metadata": {},
     "output_type": "execute_result"
    }
   ],
   "source": [
    "d = data.groupby('test preparation course')\n",
    "df5 = pd.DataFrame({'mean': d['mean'].mean(), 'median': \n",
    "                   d['mean'].median()})\n",
    "df5['mode'] = [data.query(\"`test preparation course`=='completed'\")['mean'].mode()[0], \n",
    "               data.query(\"`test preparation course`=='none'\")['mean'].mode()[0]]\n",
    "df5['central_mean'] = (df5['mean'] + df5['median'] + df5['mode'])/3\n",
    "df5"
   ]
  },
  {
   "cell_type": "code",
   "execution_count": 122,
   "id": "32c6e0f5",
   "metadata": {},
   "outputs": [
    {
     "data": {
      "text/plain": [
       "46.74929796921765"
      ]
     },
     "execution_count": 122,
     "metadata": {},
     "output_type": "execute_result"
    }
   ],
   "source": [
    "df5['central_mean'].var()"
   ]
  },
  {
   "cell_type": "markdown",
   "id": "914ce0ff",
   "metadata": {},
   "source": [
    "A média central da nota segundo o curso de preparação variou em torno de 46.74"
   ]
  },
  {
   "cell_type": "code",
   "execution_count": 68,
   "id": "58e83e08",
   "metadata": {},
   "outputs": [
    {
     "data": {
      "text/plain": [
       "<AxesSubplot:xlabel='mean', ylabel='gender'>"
      ]
     },
     "execution_count": 68,
     "metadata": {},
     "output_type": "execute_result"
    },
    {
     "data": {
      "image/png": "[encoded data removed]",
      "text/plain": [
       "<Figure size 432x288 with 1 Axes>"
      ]
     },
     "metadata": {
      "needs_background": "light"
     },
     "output_type": "display_data"
    }
   ],
   "source": [
    "quick_box('mean', 'gender')"
   ]
  },
  {
   "cell_type": "code",
   "execution_count": 69,
   "id": "a1caaec1",
   "metadata": {},
   "outputs": [
    {
     "data": {
      "text/plain": [
       "<AxesSubplot:xlabel='mean', ylabel='race/ethnicity'>"
      ]
     },
     "execution_count": 69,
     "metadata": {},
     "output_type": "execute_result"
    },
    {
     "data": {
      "image/png": "[encoded data removed]",
      "text/plain": [
       "<Figure size 432x288 with 1 Axes>"
      ]
     },
     "metadata": {
      "needs_background": "light"
     },
     "output_type": "display_data"
    }
   ],
   "source": [
    "quick_box('mean', 'race/ethnicity')"
   ]
  },
  {
   "cell_type": "code",
   "execution_count": 70,
   "id": "d3002bd2",
   "metadata": {},
   "outputs": [
    {
     "data": {
      "text/plain": [
       "<AxesSubplot:xlabel='mean', ylabel='parental level of education'>"
      ]
     },
     "execution_count": 70,
     "metadata": {},
     "output_type": "execute_result"
    },
    {
     "data": {
      "image/png": "[encoded data removed]",
      "text/plain": [
       "<Figure size 432x288 with 1 Axes>"
      ]
     },
     "metadata": {
      "needs_background": "light"
     },
     "output_type": "display_data"
    }
   ],
   "source": [
    "quick_box('mean', 'parental level of education')"
   ]
  },
  {
   "cell_type": "code",
   "execution_count": 71,
   "id": "3b61d0fc",
   "metadata": {},
   "outputs": [
    {
     "data": {
      "text/plain": [
       "<AxesSubplot:xlabel='mean', ylabel='lunch'>"
      ]
     },
     "execution_count": 71,
     "metadata": {},
     "output_type": "execute_result"
    },
    {
     "data": {
      "image/png": "[encoded data removed]",
      "text/plain": [
       "<Figure size 432x288 with 1 Axes>"
      ]
     },
     "metadata": {
      "needs_background": "light"
     },
     "output_type": "display_data"
    }
   ],
   "source": [
    "quick_box('mean', 'lunch')"
   ]
  },
  {
   "cell_type": "code",
   "execution_count": 72,
   "id": "11b83fb7",
   "metadata": {},
   "outputs": [
    {
     "data": {
      "text/plain": [
       "<AxesSubplot:xlabel='mean', ylabel='test preparation course'>"
      ]
     },
     "execution_count": 72,
     "metadata": {},
     "output_type": "execute_result"
    },
    {
     "data": {
      "image/png": "[encoded data removed]",
      "text/plain": [
       "<Figure size 432x288 with 1 Axes>"
      ]
     },
     "metadata": {
      "needs_background": "light"
     },
     "output_type": "display_data"
    }
   ],
   "source": [
    "quick_box('mean', 'test preparation course')"
   ]
  },
  {
   "cell_type": "markdown",
   "id": "bcf1dda5",
   "metadata": {},
   "source": [
    "A média das notas femininas é levemente superior as notas masculinas."
   ]
  },
  {
   "cell_type": "code",
   "execution_count": null,
   "id": "55c0d225",
   "metadata": {},
   "outputs": [],
   "source": []
  }
 ],
 "metadata": {
  "kernelspec": {
   "display_name": "Python 3 (ipykernel)",
   "language": "python",
   "name": "python3"
  },
  "language_info": {
   "codemirror_mode": {
    "name": "ipython",
    "version": 3
   },
   "file_extension": ".py",
   "mimetype": "text/x-python",
   "name": "python",
   "nbconvert_exporter": "python",
   "pygments_lexer": "ipython3",
   "version": "3.9.7"
  }
 },
 "nbformat": 4,
 "nbformat_minor": 5
}
